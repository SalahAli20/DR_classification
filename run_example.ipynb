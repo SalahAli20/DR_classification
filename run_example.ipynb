{
  "nbformat": 4,
  "nbformat_minor": 0,
  "metadata": {
    "colab": {
      "provenance": [],
      "gpuType": "T4",
      "authorship_tag": "ABX9TyOCHD3PdSBj1sNMARljEcg1",
      "include_colab_link": true
    },
    "kernelspec": {
      "name": "python3",
      "display_name": "Python 3"
    },
    "language_info": {
      "name": "python"
    },
    "accelerator": "GPU"
  },
  "cells": [
    {
      "cell_type": "markdown",
      "metadata": {
        "id": "view-in-github",
        "colab_type": "text"
      },
      "source": [
        "<a href=\"https://colab.research.google.com/github/SalahAli2018/SH/blob/main/run_example.ipynb\" target=\"_parent\"><img src=\"https://colab.research.google.com/assets/colab-badge.svg\" alt=\"Open In Colab\"/></a>"
      ]
    },
    {
      "cell_type": "markdown",
      "source": [
        "    Open Kaggle website.\n",
        "    Go to your profile by clicking on your profile icon at the top right corner.\n",
        "    Click on \"Account\" from the dropdown menu.\n",
        "    Navigate to the \"API\" section in your account settings.\n",
        "    Click on the \"Create New API Token\" button.\n",
        "    This will download a JSON file named kaggle.json containing your API credentials."
      ],
      "metadata": {
        "id": "vmiKAIBBtkkL"
      }
    },
    {
      "cell_type": "code",
      "source": [
        "from google.colab import files\n",
        "uploaded = files.upload()\n"
      ],
      "metadata": {
        "id": "IF65z-vnthdp"
      },
      "execution_count": null,
      "outputs": []
    },
    {
      "cell_type": "code",
      "source": [
        "! pip install kaggle"
      ],
      "metadata": {
        "colab": {
          "base_uri": "https://localhost:8080/"
        },
        "id": "kiAzvVIQj5Td",
        "outputId": "73d61a3f-ddd8-4df7-edee-2f735eee4f7f"
      },
      "execution_count": 2,
      "outputs": [
        {
          "output_type": "stream",
          "name": "stdout",
          "text": [
            "Requirement already satisfied: kaggle in /usr/local/lib/python3.10/dist-packages (1.5.16)\n",
            "Requirement already satisfied: six>=1.10 in /usr/local/lib/python3.10/dist-packages (from kaggle) (1.16.0)\n",
            "Requirement already satisfied: certifi in /usr/local/lib/python3.10/dist-packages (from kaggle) (2024.2.2)\n",
            "Requirement already satisfied: python-dateutil in /usr/local/lib/python3.10/dist-packages (from kaggle) (2.8.2)\n",
            "Requirement already satisfied: requests in /usr/local/lib/python3.10/dist-packages (from kaggle) (2.31.0)\n",
            "Requirement already satisfied: tqdm in /usr/local/lib/python3.10/dist-packages (from kaggle) (4.66.2)\n",
            "Requirement already satisfied: python-slugify in /usr/local/lib/python3.10/dist-packages (from kaggle) (8.0.4)\n",
            "Requirement already satisfied: urllib3 in /usr/local/lib/python3.10/dist-packages (from kaggle) (2.0.7)\n",
            "Requirement already satisfied: bleach in /usr/local/lib/python3.10/dist-packages (from kaggle) (6.1.0)\n",
            "Requirement already satisfied: webencodings in /usr/local/lib/python3.10/dist-packages (from bleach->kaggle) (0.5.1)\n",
            "Requirement already satisfied: text-unidecode>=1.3 in /usr/local/lib/python3.10/dist-packages (from python-slugify->kaggle) (1.3)\n",
            "Requirement already satisfied: charset-normalizer<4,>=2 in /usr/local/lib/python3.10/dist-packages (from requests->kaggle) (3.3.2)\n",
            "Requirement already satisfied: idna<4,>=2.5 in /usr/local/lib/python3.10/dist-packages (from requests->kaggle) (3.6)\n"
          ]
        }
      ]
    },
    {
      "cell_type": "code",
      "source": [
        "! mkdir ~/.kaggle"
      ],
      "metadata": {
        "id": "UIjTpuz9j9d4"
      },
      "execution_count": 3,
      "outputs": []
    },
    {
      "cell_type": "code",
      "source": [
        "! cp kaggle.json ~/.kaggle/"
      ],
      "metadata": {
        "id": "ZYXdvhlDj_Wr"
      },
      "execution_count": 4,
      "outputs": []
    },
    {
      "cell_type": "code",
      "source": [
        "! chmod 600 ~/.kaggle/kaggle.json"
      ],
      "metadata": {
        "id": "dDZyz8S8kCEN"
      },
      "execution_count": 5,
      "outputs": []
    },
    {
      "cell_type": "code",
      "source": [
        "!kaggle datasets download -d mariaherrerot/messidor2preprocess"
      ],
      "metadata": {
        "colab": {
          "base_uri": "https://localhost:8080/"
        },
        "id": "Yi662BWFkMs5",
        "outputId": "723d39e0-82ab-4872-91e0-5f2c32c5d944"
      },
      "execution_count": 21,
      "outputs": [
        {
          "output_type": "stream",
          "name": "stdout",
          "text": [
            "Downloading messidor2preprocess.zip to /content\n",
            "100% 379M/381M [00:16<00:00, 29.3MB/s]\n",
            "100% 381M/381M [00:16<00:00, 24.0MB/s]\n"
          ]
        }
      ]
    },
    {
      "cell_type": "code",
      "source": [
        "!git clone https://github.com/SalahAli2018/SH.git"
      ],
      "metadata": {
        "colab": {
          "base_uri": "https://localhost:8080/"
        },
        "id": "h1WsLs6_koQU",
        "outputId": "d34588c0-09cb-47a8-a235-7454012abb68"
      },
      "execution_count": 55,
      "outputs": [
        {
          "output_type": "stream",
          "name": "stdout",
          "text": [
            "Cloning into 'SH'...\n",
            "remote: Enumerating objects: 272, done.\u001b[K\n",
            "remote: Counting objects: 100% (260/260), done.\u001b[K\n",
            "remote: Compressing objects: 100% (175/175), done.\u001b[K\n",
            "remote: Total 272 (delta 110), reused 200 (delta 85), pack-reused 12\u001b[K\n",
            "Receiving objects: 100% (272/272), 83.45 KiB | 1.52 MiB/s, done.\n",
            "Resolving deltas: 100% (110/110), done.\n"
          ]
        }
      ]
    },
    {
      "cell_type": "code",
      "source": [
        "!unzip messidor2preprocess.zip"
      ],
      "metadata": {
        "id": "qN1V70djk2fN"
      },
      "execution_count": 23,
      "outputs": []
    },
    {
      "cell_type": "code",
      "source": [
        "cd  /content/SH/DR_classification_model/"
      ],
      "metadata": {
        "colab": {
          "base_uri": "https://localhost:8080/"
        },
        "id": "guYqCbOok-Eh",
        "outputId": "d02a26e4-8d59-46e0-d0c3-ad0a3419c235"
      },
      "execution_count": 56,
      "outputs": [
        {
          "output_type": "stream",
          "name": "stdout",
          "text": [
            "/content/SH/DR_classification_model\n"
          ]
        }
      ]
    },
    {
      "cell_type": "code",
      "source": [],
      "metadata": {
        "id": "kCg4TvuynJ7H"
      },
      "execution_count": 57,
      "outputs": []
    },
    {
      "cell_type": "code",
      "source": [
        "csv_path ='data/messidor_data.csv'\n",
        "root_dir = '/content/messidor-2/messidor-2/preprocess/'\n",
        "output_folder='/content/SH/DR_classification_model/outputs'\n",
        "\n",
        "\n"
      ],
      "metadata": {
        "id": "dI7bZAyelP6C"
      },
      "execution_count": 58,
      "outputs": []
    },
    {
      "cell_type": "code",
      "source": [
        "!python main.py --input_CSV {csv_path} --input_folder {root_dir} --output_folder {output_folder} --model 'DenseNet' --mode \"train\""
      ],
      "metadata": {
        "colab": {
          "base_uri": "https://localhost:8080/"
        },
        "id": "jXvMGyqxnL5D",
        "outputId": "0f1284b6-d835-48fc-9e96-868db0a1eac2"
      },
      "execution_count": 59,
      "outputs": [
        {
          "output_type": "stream",
          "name": "stdout",
          "text": [
            "input CSV is /content/messidor-2/messidor-2/preprocess/messidor_data.csv\n",
            "input image dir  is /content/messidor-2/messidor-2/preprocess/\n",
            "output folder is /content/SH/DR_classification_model/outputs\n",
            "/usr/local/lib/python3.10/dist-packages/torchvision/models/_utils.py:208: UserWarning: The parameter 'pretrained' is deprecated since 0.13 and may be removed in the future, please use 'weights' instead.\n",
            "  warnings.warn(\n",
            "/usr/local/lib/python3.10/dist-packages/torchvision/models/_utils.py:223: UserWarning: Arguments other than a weight enum or `None` for 'weights' are deprecated since 0.13 and may be removed in the future. The current behavior is equivalent to passing `weights=DenseNet121_Weights.IMAGENET1K_V1`. You can also use `weights=DenseNet121_Weights.DEFAULT` to get the most up-to-date weights.\n",
            "  warnings.warn(msg)\n",
            "/usr/local/lib/python3.10/dist-packages/torch/optim/lr_scheduler.py:28: UserWarning: The verbose parameter is deprecated. Please use get_last_lr() to access the learning rate.\n",
            "  warnings.warn(\"The verbose parameter is deprecated. Please use get_last_lr() \"\n",
            "Epoch [1/20], Loss: 1.1996, Accuracy: 0.4143, Precision: 0.5255, Recall: 0.4143, F1 Score: 0.4202\n",
            "Epoch [2/20], Loss: 0.6996, Accuracy: 0.5071, Precision: 0.5667, Recall: 0.5071, F1 Score: 0.5085\n",
            "Epoch [3/20], Loss: 0.4906, Accuracy: 0.6214, Precision: 0.5947, Recall: 0.6214, F1 Score: 0.6038\n",
            "Epoch [4/20], Loss: 0.3497, Accuracy: 0.6571, Precision: 0.5888, Recall: 0.6571, F1 Score: 0.6079\n",
            "Epoch [5/20], Loss: 0.2521, Accuracy: 0.6714, Precision: 0.6062, Recall: 0.6714, F1 Score: 0.6109\n",
            "Epoch [6/20], Loss: 0.1761, Accuracy: 0.6571, Precision: 0.6407, Recall: 0.6571, F1 Score: 0.6434\n",
            "Epoch [7/20], Loss: 0.1205, Accuracy: 0.6929, Precision: 0.6644, Recall: 0.6929, F1 Score: 0.6684\n",
            "Epoch [8/20], Loss: 0.0825, Accuracy: 0.6643, Precision: 0.6395, Recall: 0.6643, F1 Score: 0.6462\n",
            "/usr/local/lib/python3.10/dist-packages/sklearn/metrics/_classification.py:1344: UndefinedMetricWarning: Precision is ill-defined and being set to 0.0 in labels with no predicted samples. Use `zero_division` parameter to control this behavior.\n",
            "  _warn_prf(average, modifier, msg_start, len(result))\n",
            "Epoch [9/20], Loss: 0.0582, Accuracy: 0.6643, Precision: 0.6000, Recall: 0.6643, F1 Score: 0.6255\n",
            "Epoch [10/20], Loss: 0.0416, Accuracy: 0.6786, Precision: 0.6394, Recall: 0.6786, F1 Score: 0.6482\n",
            "Epoch [11/20], Loss: 0.0325, Accuracy: 0.6786, Precision: 0.6547, Recall: 0.6786, F1 Score: 0.6598\n",
            "Epoch [12/20], Loss: 0.0256, Accuracy: 0.6786, Precision: 0.6453, Recall: 0.6786, F1 Score: 0.6545\n",
            "Epoch [13/20], Loss: 0.0216, Accuracy: 0.6857, Precision: 0.6516, Recall: 0.6857, F1 Score: 0.6604\n",
            "Epoch [14/20], Loss: 0.0169, Accuracy: 0.6786, Precision: 0.6462, Recall: 0.6786, F1 Score: 0.6550\n",
            "Epoch [15/20], Loss: 0.0149, Accuracy: 0.6714, Precision: 0.6203, Recall: 0.6714, F1 Score: 0.6209\n",
            "Epoch [16/20], Loss: 0.0129, Accuracy: 0.6714, Precision: 0.6390, Recall: 0.6714, F1 Score: 0.6471\n",
            "Epoch [17/20], Loss: 0.0108, Accuracy: 0.6571, Precision: 0.6439, Recall: 0.6571, F1 Score: 0.6437\n",
            "/usr/local/lib/python3.10/dist-packages/sklearn/metrics/_classification.py:1344: UndefinedMetricWarning: Precision is ill-defined and being set to 0.0 in labels with no predicted samples. Use `zero_division` parameter to control this behavior.\n",
            "  _warn_prf(average, modifier, msg_start, len(result))\n",
            "Epoch [18/20], Loss: 0.0109, Accuracy: 0.6571, Precision: 0.6162, Recall: 0.6571, F1 Score: 0.6343\n",
            "/usr/local/lib/python3.10/dist-packages/sklearn/metrics/_classification.py:1344: UndefinedMetricWarning: Precision is ill-defined and being set to 0.0 in labels with no predicted samples. Use `zero_division` parameter to control this behavior.\n",
            "  _warn_prf(average, modifier, msg_start, len(result))\n",
            "Epoch [19/20], Loss: 0.0087, Accuracy: 0.6643, Precision: 0.6028, Recall: 0.6643, F1 Score: 0.6281\n",
            "Epoch [20/20], Loss: 0.0072, Accuracy: 0.6714, Precision: 0.6284, Recall: 0.6714, F1 Score: 0.6409\n",
            "Traceback (most recent call last):\n",
            "  File \"/content/SH/DR_classification_model/main.py\", line 49, in <module>\n",
            "    plot_loss_and_metrics(accuracies, precisions, recalls, f1_scores,'{}/val_metrics.png'.format(output_folder))\n",
            "TypeError: plot_loss_and_metrics() missing 2 required positional arguments: 'f1_scores' and 'output'\n"
          ]
        }
      ]
    },
    {
      "cell_type": "code",
      "source": [],
      "metadata": {
        "id": "2ErGYNxxnUrq"
      },
      "execution_count": null,
      "outputs": []
    }
  ]
}